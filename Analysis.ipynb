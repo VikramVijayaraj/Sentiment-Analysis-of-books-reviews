{
 "cells": [
  {
   "cell_type": "markdown",
   "id": "0c5c1b3b",
   "metadata": {},
   "source": [
    "## LOAD DATA"
   ]
  },
  {
   "cell_type": "code",
   "execution_count": 84,
   "id": "f8fa909b",
   "metadata": {},
   "outputs": [],
   "source": [
    "import random\n",
    "\n",
    "class Sentiment:\n",
    "    NEGATIVE = \"NEGATIVE\"\n",
    "    POSITIVE = \"POSITIVE\"\n",
    "    NEUTRAL = \"NEUTRAL\"\n",
    "\n",
    "class Review:\n",
    "    def __init__(self, text, score):\n",
    "        self.text = text\n",
    "        self.score = score\n",
    "        self.sentiment = self.get_sentiment()\n",
    "        \n",
    "    def get_sentiment(self):\n",
    "        if self.score <= 2:\n",
    "            return Sentiment.NEGATIVE  # Or just \"NEGATIVE\"\n",
    "        elif self.score == 3:\n",
    "            return Sentiment.NEUTRAL\n",
    "        else:  # Score of 4 or 5\n",
    "            return Sentiment.POSITIVE\n",
    "\n",
    "class ReviewContainer:\n",
    "    def __init__(self, reviews):\n",
    "        self.reviews = reviews\n",
    "        \n",
    "    def get_text(self):\n",
    "        return [x.text for x in self.reviews]\n",
    "    \n",
    "    def get_sentiment(self):\n",
    "        return [x.sentiment for x in self.reviews]\n",
    "        \n",
    "    def evenly_distribute(self):\n",
    "        negative = list(filter(lambda x: x.sentiment == Sentiment.NEGATIVE, self.reviews))\n",
    "        positive = list(filter(lambda x: x.sentiment == Sentiment.POSITIVE, self.reviews))\n",
    "        positive_shrunk = positive[:len(negative)]\n",
    "        self.reviews = negative + positive_shrunk\n",
    "        random.shuffle(self.reviews)\n",
    "        "
   ]
  },
  {
   "cell_type": "code",
   "execution_count": 85,
   "id": "b9923647",
   "metadata": {
    "scrolled": true
   },
   "outputs": [
    {
     "data": {
      "text/plain": [
       "'POSITIVE'"
      ]
     },
     "execution_count": 85,
     "metadata": {},
     "output_type": "execute_result"
    }
   ],
   "source": [
    "import json\n",
    "\n",
    "file_name = 'books_small_10000.json'\n",
    "\n",
    "reviews = []\n",
    "with open(file_name) as f:\n",
    "    for line in f:\n",
    "        review = json.loads(line)\n",
    "        reviews.append(Review(review['reviewText'], review['overall']))\n",
    "        \n",
    "reviews[0].sentiment"
   ]
  },
  {
   "cell_type": "markdown",
   "id": "a428c263",
   "metadata": {},
   "source": [
    "## PREPARE DATA"
   ]
  },
  {
   "cell_type": "code",
   "execution_count": 86,
   "id": "1f8d103d",
   "metadata": {},
   "outputs": [],
   "source": [
    "from sklearn.model_selection import train_test_split\n",
    "\n",
    "train, test = train_test_split(reviews, test_size=0.33, random_state=42)"
   ]
  },
  {
   "cell_type": "code",
   "execution_count": 87,
   "id": "5d665116",
   "metadata": {},
   "outputs": [
    {
     "name": "stdout",
     "output_type": "stream",
     "text": [
      "Perhaps one of the funniest, yet saddest stories I have ever read.  I cannot imagine that a family could possibly be so dysfunctional and base; it is beyond my comprehension, yet I was riveted and hoped for the best...did it come, read it and find out.\n"
     ]
    }
   ],
   "source": [
    "print(train[1].text)"
   ]
  },
  {
   "cell_type": "code",
   "execution_count": 88,
   "id": "029bc150",
   "metadata": {},
   "outputs": [],
   "source": [
    "train_container = ReviewContainer(train)\n",
    "test_container = ReviewContainer(test)"
   ]
  },
  {
   "cell_type": "markdown",
   "id": "570ec309",
   "metadata": {},
   "source": [
    "#### Split Texts and Sentiments into train_x and train_y respectively."
   ]
  },
  {
   "cell_type": "code",
   "execution_count": 102,
   "id": "8c3d34ba",
   "metadata": {},
   "outputs": [
    {
     "name": "stdout",
     "output_type": "stream",
     "text": [
      "POSITIVE: 436\n",
      "NEGATIVE: 436\n"
     ]
    }
   ],
   "source": [
    "train_container.evenly_distribute()\n",
    "train_x = train_container.get_text()\n",
    "train_y = train_container.get_sentiment()\n",
    "\n",
    "test_container.evenly_distribute()\n",
    "test_x = test_container.get_text()\n",
    "test_y = test_container.get_sentiment()\n",
    "\n",
    "print(f\"POSITIVE: {train_y.count(Sentiment.POSITIVE)}\")\n",
    "print(f\"NEGATIVE: {train_y.count(Sentiment.NEGATIVE)}\")"
   ]
  },
  {
   "cell_type": "markdown",
   "id": "6d0adf4f",
   "metadata": {},
   "source": [
    "### Bags of words vectorization   \n",
    "\n",
    "##### Docs:\n",
    "1. https://scikit-learn.org/stable/tutorial/text_analytics/working_with_text_data.html?highlight=bags%20words\n",
    "\n",
    "2. https://scikit-learn.org/stable/modules/generated/sklearn.feature_extraction.text.CountVectorizer.html?highlight=count%20vectorizer#sklearn.feature_extraction.text.CountVectorizer"
   ]
  },
  {
   "cell_type": "code",
   "execution_count": 128,
   "id": "5623b02e",
   "metadata": {},
   "outputs": [
    {
     "name": "stdout",
     "output_type": "stream",
     "text": [
      "I was sent a copy from the publisher through NetGally.Samantha Holt does it again!! I love Samantha's work and love that she is expanding her genera to include completely different elements to her work.I LOVED Eden's Fire. This romantic paranormal story is based around a young widow named Eden. She hasn't had a great life in the last few years and is down on her luck. She prays to the Gods one night for help and to her surprise the God of Fire, Tyondric, standing in her cottage. He is completely breathtaking and helps her start the fire and warm the bath water. She is completely mesmerized by Ty and is sad to learn she will never see him again... Or will she?Tyondric is a God and is bound to help human kind and help save them. Although he might be in for a world of shock when he meets the beautiful Eden. He cannot keep his thoughts away from Eden and she is about to turn his world upside down.Eden's Fire is an amazing journey that will have you laughing, rooting for these two to be together and wanting to jump right into the book to help these two out of rough situations. This book has it all, adventure, romance, love and hurt. It will have you on the edge of your seat and biting your fingernails! I cannot wait to see if their will be another book about on of Tyondric's brothers to follow.Thank you Samantha for another amazing book!!\n",
      "[[0. 0. 0. ... 0. 0. 0.]]\n"
     ]
    }
   ],
   "source": [
    "from sklearn.feature_extraction.text import CountVectorizer, TfidfVectorizer\n",
    "\n",
    "vectorizer = TfidfVectorizer()\n",
    "\n",
    "\n",
    "train_x_vectors = vectorizer.fit_transform(train_x)  # 0's and 1's\n",
    "#     OR\n",
    "# vectorizer.fit(train_x)\n",
    "# train_x_vectors = vectorizer.transform(train_x)\n",
    "\n",
    "test_x_vectors = vectorizer.transform(test_x)\n",
    "\n",
    "print(train_x[0])\n",
    "print(train_x_vectors[0].toarray())"
   ]
  },
  {
   "cell_type": "markdown",
   "id": "3fe60d75",
   "metadata": {},
   "source": [
    "# Classification\n",
    "Choosing the classifier"
   ]
  },
  {
   "cell_type": "markdown",
   "id": "faeebd76",
   "metadata": {},
   "source": [
    "### Linear SVM"
   ]
  },
  {
   "cell_type": "code",
   "execution_count": 144,
   "id": "56ad4c51",
   "metadata": {},
   "outputs": [
    {
     "data": {
      "text/plain": [
       "SVC(kernel='linear')"
      ]
     },
     "execution_count": 144,
     "metadata": {},
     "output_type": "execute_result"
    }
   ],
   "source": [
    "from sklearn import svm\n",
    "\n",
    "clf_svm = svm.SVC(kernel='linear')\n",
    "clf_svm.fit(train_x_vectors, train_y)  # training the model"
   ]
  },
  {
   "cell_type": "code",
   "execution_count": 130,
   "id": "c88c5b15",
   "metadata": {},
   "outputs": [
    {
     "data": {
      "text/plain": [
       "array(['POSITIVE'], dtype='<U8')"
      ]
     },
     "execution_count": 130,
     "metadata": {},
     "output_type": "execute_result"
    }
   ],
   "source": [
    "# Predict\n",
    "clf_svm.predict(test_x_vectors[0])"
   ]
  },
  {
   "cell_type": "markdown",
   "id": "20e78eac",
   "metadata": {},
   "source": [
    "### Decision Trees"
   ]
  },
  {
   "cell_type": "code",
   "execution_count": 131,
   "id": "35f4aba6",
   "metadata": {},
   "outputs": [
    {
     "data": {
      "text/plain": [
       "DecisionTreeClassifier()"
      ]
     },
     "execution_count": 131,
     "metadata": {},
     "output_type": "execute_result"
    }
   ],
   "source": [
    "from sklearn.tree import DecisionTreeClassifier\n",
    "\n",
    "clf_dec = DecisionTreeClassifier()\n",
    "clf_dec.fit(train_x_vectors, train_y)"
   ]
  },
  {
   "cell_type": "code",
   "execution_count": 132,
   "id": "1e77d12f",
   "metadata": {},
   "outputs": [
    {
     "data": {
      "text/plain": [
       "array(['NEGATIVE'], dtype='<U8')"
      ]
     },
     "execution_count": 132,
     "metadata": {},
     "output_type": "execute_result"
    }
   ],
   "source": [
    "# Predict\n",
    "clf_dec.predict(test_x_vectors[0])"
   ]
  },
  {
   "cell_type": "markdown",
   "id": "f961fde7",
   "metadata": {},
   "source": [
    "### Naive Bayes"
   ]
  },
  {
   "cell_type": "code",
   "execution_count": 133,
   "id": "21fae136",
   "metadata": {},
   "outputs": [
    {
     "data": {
      "text/plain": [
       "GaussianNB()"
      ]
     },
     "execution_count": 133,
     "metadata": {},
     "output_type": "execute_result"
    }
   ],
   "source": [
    "from sklearn.naive_bayes import GaussianNB\n",
    "\n",
    "clf_gnb = GaussianNB()\n",
    "clf_gnb.fit(train_x_vectors.toarray(), train_y)"
   ]
  },
  {
   "cell_type": "code",
   "execution_count": 134,
   "id": "8aed0f16",
   "metadata": {},
   "outputs": [
    {
     "data": {
      "text/plain": [
       "array(['POSITIVE'], dtype='<U8')"
      ]
     },
     "execution_count": 134,
     "metadata": {},
     "output_type": "execute_result"
    }
   ],
   "source": [
    "# Predict\n",
    "clf_gnb.predict(test_x_vectors[0].toarray())"
   ]
  },
  {
   "cell_type": "markdown",
   "id": "e45f728e",
   "metadata": {},
   "source": [
    "### Logistic Regression"
   ]
  },
  {
   "cell_type": "code",
   "execution_count": 135,
   "id": "e058c5fb",
   "metadata": {},
   "outputs": [
    {
     "data": {
      "text/plain": [
       "LogisticRegression()"
      ]
     },
     "execution_count": 135,
     "metadata": {},
     "output_type": "execute_result"
    }
   ],
   "source": [
    "from sklearn.linear_model import LogisticRegression\n",
    "\n",
    "clf_log = LogisticRegression()\n",
    "clf_log.fit(train_x_vectors, train_y)"
   ]
  },
  {
   "cell_type": "code",
   "execution_count": 136,
   "id": "f95ebea9",
   "metadata": {},
   "outputs": [
    {
     "data": {
      "text/plain": [
       "array(['POSITIVE'], dtype='<U8')"
      ]
     },
     "execution_count": 136,
     "metadata": {},
     "output_type": "execute_result"
    }
   ],
   "source": [
    "# Predict\n",
    "clf_log.predict(test_x_vectors[0])"
   ]
  },
  {
   "cell_type": "markdown",
   "id": "fa5e532b",
   "metadata": {},
   "source": [
    "# Evaluation"
   ]
  },
  {
   "cell_type": "markdown",
   "id": "6bbbe2a9",
   "metadata": {},
   "source": [
    "### Mean Accuracy"
   ]
  },
  {
   "cell_type": "code",
   "execution_count": 137,
   "id": "fa2e7e86",
   "metadata": {},
   "outputs": [
    {
     "name": "stdout",
     "output_type": "stream",
     "text": [
      "SVM: 0.8076923076923077\n",
      "DEC: 0.6225961538461539\n",
      "GNB: 0.6610576923076923\n",
      "LOG: 0.8052884615384616\n"
     ]
    }
   ],
   "source": [
    "print(f\"SVM: {clf_svm.score(test_x_vectors, test_y)}\")\n",
    "print(f\"DEC: {clf_dec.score(test_x_vectors, test_y)}\")\n",
    "print(f\"GNB: {clf_gnb.score(test_x_vectors.toarray(), test_y)}\")\n",
    "print(f\"LOG: {clf_log.score(test_x_vectors, test_y)}\")"
   ]
  },
  {
   "cell_type": "markdown",
   "id": "72be5599",
   "metadata": {},
   "source": [
    "### F1 Score"
   ]
  },
  {
   "cell_type": "code",
   "execution_count": 138,
   "id": "f96096d4",
   "metadata": {},
   "outputs": [
    {
     "name": "stdout",
     "output_type": "stream",
     "text": [
      "SVM: [0.80582524 0.         0.80952381]\n",
      "DEC: [0.62884161 0.         0.61613692]\n",
      "GNB: [0.65693431 0.         0.66508314]\n",
      "LOG: [0.80291971 0.         0.80760095]\n"
     ]
    },
    {
     "name": "stderr",
     "output_type": "stream",
     "text": [
      "c:\\users\\vikram vijayaraj\\appdata\\local\\programs\\python\\python38\\lib\\site-packages\\sklearn\\metrics\\_classification.py:1492: UndefinedMetricWarning: F-score is ill-defined and being set to 0.0 in labels with no true nor predicted samples. Use `zero_division` parameter to control this behavior.\n",
      "  _warn_prf(\n",
      "c:\\users\\vikram vijayaraj\\appdata\\local\\programs\\python\\python38\\lib\\site-packages\\sklearn\\metrics\\_classification.py:1492: UndefinedMetricWarning: F-score is ill-defined and being set to 0.0 in labels with no true nor predicted samples. Use `zero_division` parameter to control this behavior.\n",
      "  _warn_prf(\n",
      "c:\\users\\vikram vijayaraj\\appdata\\local\\programs\\python\\python38\\lib\\site-packages\\sklearn\\metrics\\_classification.py:1492: UndefinedMetricWarning: F-score is ill-defined and being set to 0.0 in labels with no true nor predicted samples. Use `zero_division` parameter to control this behavior.\n",
      "  _warn_prf(\n",
      "c:\\users\\vikram vijayaraj\\appdata\\local\\programs\\python\\python38\\lib\\site-packages\\sklearn\\metrics\\_classification.py:1492: UndefinedMetricWarning: F-score is ill-defined and being set to 0.0 in labels with no true nor predicted samples. Use `zero_division` parameter to control this behavior.\n",
      "  _warn_prf(\n"
     ]
    }
   ],
   "source": [
    "from sklearn.metrics import f1_score\n",
    "\n",
    "print(f\"SVM: {f1_score(test_y, clf_svm.predict(test_x_vectors), average=None, labels=[Sentiment.POSITIVE, Sentiment.NEUTRAL, Sentiment.NEGATIVE])}\")\n",
    "print(f\"DEC: {f1_score(test_y, clf_dec.predict(test_x_vectors), average=None, labels=[Sentiment.POSITIVE, Sentiment.NEUTRAL, Sentiment.NEGATIVE])}\")\n",
    "print(f\"GNB: {f1_score(test_y, clf_gnb.predict(test_x_vectors.toarray()), average=None, labels=[Sentiment.POSITIVE, Sentiment.NEUTRAL, Sentiment.NEGATIVE])}\")\n",
    "print(f\"LOG: {f1_score(test_y, clf_log.predict(test_x_vectors), average=None, labels=[Sentiment.POSITIVE, Sentiment.NEUTRAL, Sentiment.NEGATIVE])}\")\n"
   ]
  },
  {
   "cell_type": "markdown",
   "id": "4f1e8f28",
   "metadata": {},
   "source": [
    "#### Analyze the data"
   ]
  },
  {
   "cell_type": "code",
   "execution_count": 139,
   "id": "75f5cd51",
   "metadata": {},
   "outputs": [
    {
     "name": "stdout",
     "output_type": "stream",
     "text": [
      "Total: 872\n",
      "Positive: 436\n",
      "Negative: 436\n",
      "Neutral: 0\n"
     ]
    }
   ],
   "source": [
    "print(f\"Total: {len(train_y)}\")\n",
    "print(f\"Positive: {train_y.count(Sentiment.POSITIVE)}\")\n",
    "print(f\"Negative: {train_y.count(Sentiment.NEGATIVE)}\")\n",
    "print(f\"Neutral: {train_y.count(Sentiment.NEUTRAL)}\")"
   ]
  },
  {
   "cell_type": "markdown",
   "id": "dc30ccde",
   "metadata": {},
   "source": [
    "## Qualitative Analysis"
   ]
  },
  {
   "cell_type": "code",
   "execution_count": 140,
   "id": "cb688ce0",
   "metadata": {},
   "outputs": [
    {
     "name": "stdout",
     "output_type": "stream",
     "text": [
      "SVM: ['NEGATIVE' 'NEGATIVE' 'POSITIVE']\n",
      "DEC: ['POSITIVE' 'NEGATIVE' 'POSITIVE']\n",
      "GBN: ['NEGATIVE' 'NEGATIVE' 'NEGATIVE']\n",
      "LOG: ['POSITIVE' 'NEGATIVE' 'POSITIVE']\n"
     ]
    }
   ],
   "source": [
    "test_set = ['not great', 'bad book do not buy', 'good']\n",
    "new_test = vectorizer.transform(test_set)\n",
    "\n",
    "print(f\"SVM: {clf_svm.predict(new_test)}\")\n",
    "print(f\"DEC: {clf_dec.predict(new_test)}\")\n",
    "print(f\"GBN: {clf_gnb.predict(new_test.toarray())}\")\n",
    "print(f\"LOG: {clf_log.predict(new_test)}\")"
   ]
  },
  {
   "cell_type": "markdown",
   "id": "4b79e7a9",
   "metadata": {},
   "source": [
    "### Tuning our model (with Grid Search)"
   ]
  },
  {
   "cell_type": "code",
   "execution_count": 146,
   "id": "7ccd39fa",
   "metadata": {},
   "outputs": [
    {
     "data": {
      "text/plain": [
       "GridSearchCV(cv=5, estimator=SVC(),\n",
       "             param_grid={'C': (1, 4, 8, 16, 32), 'kernel': ('linear', 'rbf')})"
      ]
     },
     "execution_count": 146,
     "metadata": {},
     "output_type": "execute_result"
    }
   ],
   "source": [
    "from sklearn.model_selection import GridSearchCV\n",
    "\n",
    "parameters = {'kernel': ('linear', 'rbf'), 'C': (1,4,8,16,32)}\n",
    "\n",
    "svc = svm.SVC()\n",
    "clf = GridSearchCV(svc, parameters, cv=5)\n",
    "clf.fit(train_x_vectors, train_y)"
   ]
  },
  {
   "cell_type": "code",
   "execution_count": 148,
   "id": "9ebfe155",
   "metadata": {},
   "outputs": [
    {
     "name": "stdout",
     "output_type": "stream",
     "text": [
      "SVM: 0.8197115384615384\n"
     ]
    }
   ],
   "source": [
    "# Accuracy\n",
    "print(f\"SVM: {clf.score(test_x_vectors, test_y)}\")"
   ]
  },
  {
   "cell_type": "markdown",
   "id": "f9a97343",
   "metadata": {},
   "source": [
    "## Saving our model"
   ]
  },
  {
   "cell_type": "markdown",
   "id": "473835f1",
   "metadata": {},
   "source": [
    "#### Save model"
   ]
  },
  {
   "cell_type": "code",
   "execution_count": 149,
   "id": "da9152f6",
   "metadata": {},
   "outputs": [
    {
     "data": {
      "text/plain": [
       "'C:\\\\MyFiles\\\\Projects\\\\Sentiment Analysis'"
      ]
     },
     "execution_count": 149,
     "metadata": {},
     "output_type": "execute_result"
    }
   ],
   "source": [
    "import os\n",
    "os.getcwd()"
   ]
  },
  {
   "cell_type": "code",
   "execution_count": 150,
   "id": "7f0cb4fe",
   "metadata": {},
   "outputs": [],
   "source": [
    "import pickle\n",
    "\n",
    "with open('./Model/sentiment_classifier.pkl', 'wb') as f:\n",
    "    pickle.dump(clf, f)"
   ]
  },
  {
   "cell_type": "markdown",
   "id": "01335ad3",
   "metadata": {},
   "source": [
    "#### Load model"
   ]
  },
  {
   "cell_type": "code",
   "execution_count": 151,
   "id": "cc22cef7",
   "metadata": {},
   "outputs": [],
   "source": [
    "with open('./Model/sentiment_classifier.pkl', 'rb') as f:\n",
    "    loaded_clf = pickle.load(f)"
   ]
  },
  {
   "cell_type": "code",
   "execution_count": 154,
   "id": "232b6341",
   "metadata": {},
   "outputs": [
    {
     "name": "stdout",
     "output_type": "stream",
     "text": [
      "Recommended by a friend as &#34;one of the best books I have read.&#34;  I would not go that far but it is a page turner and very touching story.  Delightful read.\n",
      "POSITIVE\n"
     ]
    },
    {
     "data": {
      "text/plain": [
       "array(['POSITIVE'], dtype='<U8')"
      ]
     },
     "execution_count": 154,
     "metadata": {},
     "output_type": "execute_result"
    }
   ],
   "source": [
    "print(test_x[0])\n",
    "print(test_y[0])\n",
    "\n",
    "loaded_clf.predict(test_x_vectors[0])"
   ]
  }
 ],
 "metadata": {
  "kernelspec": {
   "display_name": "Python 3",
   "language": "python",
   "name": "python3"
  },
  "language_info": {
   "codemirror_mode": {
    "name": "ipython",
    "version": 3
   },
   "file_extension": ".py",
   "mimetype": "text/x-python",
   "name": "python",
   "nbconvert_exporter": "python",
   "pygments_lexer": "ipython3",
   "version": "3.8.2"
  }
 },
 "nbformat": 4,
 "nbformat_minor": 5
}
